{
 "cells": [
  {
   "cell_type": "code",
   "execution_count": 3,
   "metadata": {},
   "outputs": [],
   "source": [
    "# Install pillow using pip3 install Pillow (for Mac)\n",
    "# Import Image from Pillow\n",
    "\n",
    "from PIL import Image"
   ]
  },
  {
   "cell_type": "code",
   "execution_count": 4,
   "metadata": {},
   "outputs": [
    {
     "name": "stdout",
     "output_type": "stream",
     "text": [
      "Current size of Sample_Image: (2574, 1470)\n"
     ]
    }
   ],
   "source": [
    "# Open any image and print its current size\n",
    "Sample_Image = Image.open('Sam_image.png')\n",
    "\n",
    "print(f\"Current size of Sample_Image: {Sample_Image.size}\")"
   ]
  },
  {
   "cell_type": "code",
   "execution_count": 5,
   "metadata": {},
   "outputs": [],
   "source": [
    "# Resizing the image\n",
    "Resized_Sample_Image = Sample_Image.resize((1500, 1000))\n",
    "\n",
    "#Saving the newly resized sample image\n",
    "Resized_Sample_Image.save('Sam_image_resized.png')"
   ]
  }
 ],
 "metadata": {
  "kernelspec": {
   "display_name": "Python 3",
   "language": "python",
   "name": "python3"
  },
  "language_info": {
   "codemirror_mode": {
    "name": "ipython",
    "version": 3
   },
   "file_extension": ".py",
   "mimetype": "text/x-python",
   "name": "python",
   "nbconvert_exporter": "python",
   "pygments_lexer": "ipython3",
   "version": "3.8.8"
  }
 },
 "nbformat": 4,
 "nbformat_minor": 2
}
